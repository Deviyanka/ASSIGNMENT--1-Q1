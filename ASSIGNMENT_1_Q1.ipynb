{
  "nbformat": 4,
  "nbformat_minor": 0,
  "metadata": {
    "colab": {
      "provenance": []
    },
    "kernelspec": {
      "name": "python3",
      "display_name": "Python 3"
    },
    "language_info": {
      "name": "python"
    }
  },
  "cells": [
    {
      "cell_type": "markdown",
      "source": [
        "ASSIGNMENT-1"
      ],
      "metadata": {
        "id": "2Cvm03qRi4k8"
      }
    },
    {
      "cell_type": "markdown",
      "source": [
        "1.. L is a list defined as L= [11, 12, 13, 14].\n"
      ],
      "metadata": {
        "id": "aADrpYMTjFuk"
      }
    },
    {
      "cell_type": "markdown",
      "source": [
        "1.a (i)\tWAP to add 50 and 60 to L."
      ],
      "metadata": {
        "id": "VsogYHwsjvw3"
      }
    },
    {
      "cell_type": "code",
      "execution_count": null,
      "metadata": {
        "colab": {
          "base_uri": "https://localhost:8080/"
        },
        "id": "iY-ZWaKcivga",
        "outputId": "559c65b6-1e11-4500-f62b-bbffde3717d4"
      },
      "outputs": [
        {
          "output_type": "stream",
          "name": "stdout",
          "text": [
            "ORIGINAL LIST---> [11, 12, 13, 14]\n",
            "list after adding elements  ---> [11, 12, 13, 14, 50, 60]\n"
          ]
        }
      ],
      "source": [
        "L=[11,12,13,14]\n",
        "print(\"ORIGINAL LIST--->\",L)\n",
        "L.append(50)\n",
        "L.append(60)\n",
        "print(\"list after adding elements  --->\",L )"
      ]
    },
    {
      "cell_type": "markdown",
      "source": [
        "1.b\tWAP to remove 11 and 13from L."
      ],
      "metadata": {
        "id": "6KBY7GsamB0A"
      }
    },
    {
      "cell_type": "code",
      "source": [
        "L=[11,12,13,14]\n",
        "print(\"ORIGINAL LIST--->\",L)\n",
        "L.remove(11)\n",
        "L.remove(13)\n",
        "print(\"list after deleting elements  --->\",L )"
      ],
      "metadata": {
        "colab": {
          "base_uri": "https://localhost:8080/"
        },
        "id": "ViRhMMPylyYR",
        "outputId": "d002e5cb-1bec-4b06-91ec-d9608eb364fa"
      },
      "execution_count": null,
      "outputs": [
        {
          "output_type": "stream",
          "name": "stdout",
          "text": [
            "ORIGINAL LIST---> [11, 12, 13, 14]\n",
            "list after deleting elements  ---> [12, 14]\n"
          ]
        }
      ]
    },
    {
      "cell_type": "markdown",
      "source": [
        "1.c ) WAP to sort L in ascending order."
      ],
      "metadata": {
        "id": "dMbtv1dsl_2j"
      }
    },
    {
      "cell_type": "code",
      "source": [
        "L=[11,12,13,14]\n",
        "print(\"BEFORE SORTING   --->\",L)\n",
        "L.sort()\n",
        "print(\"After sorting (ascending)  --->\",L)"
      ],
      "metadata": {
        "colab": {
          "base_uri": "https://localhost:8080/"
        },
        "id": "8qj2wwDJm36E",
        "outputId": "eab1c7bf-2597-4ed1-81eb-1c306193efcf"
      },
      "execution_count": null,
      "outputs": [
        {
          "output_type": "stream",
          "name": "stdout",
          "text": [
            "BEFORE SORTING   ---> [11, 12, 13, 14]\n",
            "After sorting (ascending)  ---> [11, 12, 13, 14]\n"
          ]
        }
      ]
    },
    {
      "cell_type": "markdown",
      "source": [
        "1.d (iv)\tWAP to sort L in descending order."
      ],
      "metadata": {
        "id": "mVYR1WAeng_G"
      }
    },
    {
      "cell_type": "code",
      "source": [
        "L=[11,12,13,14]\n",
        "print(\"BEFORE SORTING   --->\",L)\n",
        "L.sort(reverse=True)\n",
        "print(\"After sorting (descending)  --->\",L)"
      ],
      "metadata": {
        "colab": {
          "base_uri": "https://localhost:8080/"
        },
        "id": "HgjuIIxenqUX",
        "outputId": "2c494c21-6842-4229-bbfc-9e243c6a6d81"
      },
      "execution_count": null,
      "outputs": [
        {
          "output_type": "stream",
          "name": "stdout",
          "text": [
            "BEFORE SORTING   ---> [11, 12, 13, 14]\n",
            "After sorting (descending)  ---> [14, 13, 12, 11]\n"
          ]
        }
      ]
    },
    {
      "cell_type": "markdown",
      "source": [
        "1.e (v)\tWAP to search for 13 in L."
      ],
      "metadata": {
        "id": "Z34g7jHBoEPg"
      }
    },
    {
      "cell_type": "code",
      "source": [
        "L=[11,12,13,14]\n",
        "print(\"ORIGINAL LIST--->\",13 in L)\n",
        "if (13 in L)==True:\n",
        "  print(\"Present\")\n",
        "else:\n",
        "  print(\"Not present\")\n"
      ],
      "metadata": {
        "colab": {
          "base_uri": "https://localhost:8080/"
        },
        "id": "0mhuqq64oP6C",
        "outputId": "c3067ca0-c083-4c5c-8083-b21cbf5a04b7"
      },
      "execution_count": null,
      "outputs": [
        {
          "output_type": "stream",
          "name": "stdout",
          "text": [
            "ORIGINAL LIST---> True\n",
            "Present\n"
          ]
        }
      ]
    },
    {
      "cell_type": "markdown",
      "source": [
        "1.f(vi)\tWAP to count the number of elements present in L."
      ],
      "metadata": {
        "id": "1IwT9mnUq5WW"
      }
    },
    {
      "cell_type": "code",
      "source": [
        "L=[11,12,13,14]\n",
        "print(\"ORIGINAL LIST--->\",L)\n",
        "print(\"number of elements in L --->\",len(L))"
      ],
      "metadata": {
        "colab": {
          "base_uri": "https://localhost:8080/"
        },
        "id": "ge88I6o4rChm",
        "outputId": "c591e9ee-86df-4f89-a6bf-6be12029cb9b"
      },
      "execution_count": null,
      "outputs": [
        {
          "output_type": "stream",
          "name": "stdout",
          "text": [
            "ORIGINAL LIST---> [11, 12, 13, 14]\n",
            "number of elements in L ---> 4\n"
          ]
        }
      ]
    },
    {
      "cell_type": "markdown",
      "source": [
        "1.g\tWAP to sum all the elements in L."
      ],
      "metadata": {
        "id": "Uu3CereXrpcd"
      }
    },
    {
      "cell_type": "code",
      "source": [
        "L=[11,12,13,14]\n",
        "print(\"ORIGINAL LIST--->\",L)\n",
        "print(\"SUM  --->\",sum(L))"
      ],
      "metadata": {
        "colab": {
          "base_uri": "https://localhost:8080/"
        },
        "id": "8bBqPXfbr4I_",
        "outputId": "57778a35-e7b8-4f0b-af10-a048ba61e93f"
      },
      "execution_count": null,
      "outputs": [
        {
          "output_type": "stream",
          "name": "stdout",
          "text": [
            "ORIGINAL LIST---> [11, 12, 13, 14]\n",
            "SUM  ---> 50\n"
          ]
        }
      ]
    },
    {
      "cell_type": "markdown",
      "source": [
        "1.h WAP to sum all ODD numbers in L"
      ],
      "metadata": {
        "id": "oZx3ZBkesJR-"
      }
    },
    {
      "cell_type": "code",
      "source": [
        "L=[11,12,13,14]\n",
        "print(\"ORIGINAL LIST--->\",L)\n",
        "for x in L:\n",
        "  if(x%2)==0:\n",
        "     L.remove(x)\n",
        "  else:\n",
        "     print(\"odd number --->\",x)\n",
        "print(\"ODD NUMBERS ARE --->\",L)\n",
        "print(\"SUM OF ALL ODD NUMBERS --->\",sum(L))\n",
        "\n"
      ],
      "metadata": {
        "colab": {
          "base_uri": "https://localhost:8080/"
        },
        "id": "i4SK6YmesS0Z",
        "outputId": "118233cc-86ca-48fa-a194-691977623be5"
      },
      "execution_count": null,
      "outputs": [
        {
          "output_type": "stream",
          "name": "stdout",
          "text": [
            "ORIGINAL LIST---> [11, 12, 13, 14]\n",
            "odd number ---> 11\n",
            "ODD NUMBERS ARE ---> [11, 13]\n",
            "SUM OF ALL ODD NUMBERS ---> 24\n"
          ]
        }
      ]
    },
    {
      "cell_type": "markdown",
      "source": [
        "1.i\tWAP to sum all EVEN numbers in L."
      ],
      "metadata": {
        "id": "82smwDYzwaXz"
      }
    },
    {
      "cell_type": "code",
      "source": [
        "L=[11,12,13,14]\n",
        "print(\"ORIGINAL LIST--->\",L)\n",
        "\n",
        "for x in L:\n",
        "  if(x%2)==0:\n",
        "    print(\"EVEN NUMBER --->\",x)\n",
        "  else:\n",
        "    L.remove(x)\n",
        "print(\"EVEN NUMBERS ARE --->\",L)\n",
        "\n",
        "print(\"SUM OF ALL EVEN NUMBERS --->\",sum(L))\n",
        "\n"
      ],
      "metadata": {
        "colab": {
          "base_uri": "https://localhost:8080/"
        },
        "id": "hg4zQ0w-wfdg",
        "outputId": "80fce68f-01bb-479c-c95e-7abed5ff0745"
      },
      "execution_count": null,
      "outputs": [
        {
          "output_type": "stream",
          "name": "stdout",
          "text": [
            "ORIGINAL LIST---> [11, 12, 13, 14]\n",
            "EVEN NUMBERS ARE ---> [12, 14]\n",
            "SUM OF ALL EVEN NUMBERS ---> 26\n"
          ]
        }
      ]
    },
    {
      "cell_type": "markdown",
      "source": [
        "1.j\tWAP to sum all PRIME numbers in L."
      ],
      "metadata": {
        "id": "fsXD18rc2Unk"
      }
    },
    {
      "cell_type": "code",
      "source": [
        "L=[11,12,13,14]\n",
        "L1=[]\n",
        "for value in L:\n",
        "  for i in range(2,((value)//2)+1):\n",
        "    if value<2:\n",
        "      break\n",
        "    elif value%i==0:\n",
        "      break\n",
        "    else:\n",
        "      L1.append(value)\n",
        "      break\n",
        "print(\"PRIME NUMBERS ARE ---> \",L1)\n",
        "\n",
        "print(\"Sum of prime numbers in list --->\",sum(L1))\n",
        "\n"
      ],
      "metadata": {
        "id": "63mc0wHiyt9z",
        "colab": {
          "base_uri": "https://localhost:8080/"
        },
        "outputId": "c04c6235-6cf4-4c93-f217-3b62cb7a633a"
      },
      "execution_count": 30,
      "outputs": [
        {
          "output_type": "stream",
          "name": "stdout",
          "text": [
            "PRIME NUMBERS ARE --->  [11, 13]\n",
            "Sum of prime numbers in list ---> 24\n"
          ]
        }
      ]
    },
    {
      "cell_type": "markdown",
      "source": [
        "1.k WAP to clear all the elements in L.\n"
      ],
      "metadata": {
        "id": "bhUM5rFRkaBx"
      }
    },
    {
      "cell_type": "code",
      "source": [
        "L=[11,12,13,14]\n",
        "print(\"ORIGINAL LIST--->\",L)\n",
        "L.clear()\n",
        "print(\"AFTER CLEARING THE ELEMENTS --->\",L)\n",
        "\n"
      ],
      "metadata": {
        "colab": {
          "base_uri": "https://localhost:8080/"
        },
        "id": "Z7L6W7jmk7bK",
        "outputId": "630e337c-0b7e-4f45-f0a5-75fa3fd46ea8"
      },
      "execution_count": 32,
      "outputs": [
        {
          "output_type": "stream",
          "name": "stdout",
          "text": [
            "ORIGINAL LIST---> [11, 12, 13, 14]\n",
            "AFTER CLEARING THE ELEMENTS ---> []\n"
          ]
        }
      ]
    },
    {
      "cell_type": "markdown",
      "source": [
        "1.j WAP to delete L."
      ],
      "metadata": {
        "id": "LsKZWCOWnCWu"
      }
    },
    {
      "cell_type": "code",
      "source": [
        "L=[11,12,13,14]\n",
        "print(\"ORIGINAL LIST--->\",L)\n",
        "del L\n",
        "print(\"AFTER DELETING LIST\",L)"
      ],
      "metadata": {
        "colab": {
          "base_uri": "https://localhost:8080/",
          "height": 217
        },
        "id": "Q8F00081nOWH",
        "outputId": "475b1426-c8ef-4541-f7f6-8860d7e665fe"
      },
      "execution_count": 35,
      "outputs": [
        {
          "output_type": "stream",
          "name": "stdout",
          "text": [
            "ORIGINAL LIST---> [11, 12, 13, 14]\n"
          ]
        },
        {
          "output_type": "error",
          "ename": "NameError",
          "evalue": "ignored",
          "traceback": [
            "\u001b[0;31m---------------------------------------------------------------------------\u001b[0m",
            "\u001b[0;31mNameError\u001b[0m                                 Traceback (most recent call last)",
            "\u001b[0;32m<ipython-input-35-bd7f8858ffa7>\u001b[0m in \u001b[0;36m<cell line: 4>\u001b[0;34m()\u001b[0m\n\u001b[1;32m      2\u001b[0m \u001b[0mprint\u001b[0m\u001b[0;34m(\u001b[0m\u001b[0;34m\"ORIGINAL LIST--->\"\u001b[0m\u001b[0;34m,\u001b[0m\u001b[0mL\u001b[0m\u001b[0;34m)\u001b[0m\u001b[0;34m\u001b[0m\u001b[0;34m\u001b[0m\u001b[0m\n\u001b[1;32m      3\u001b[0m \u001b[0;32mdel\u001b[0m \u001b[0mL\u001b[0m\u001b[0;34m\u001b[0m\u001b[0;34m\u001b[0m\u001b[0m\n\u001b[0;32m----> 4\u001b[0;31m \u001b[0mprint\u001b[0m\u001b[0;34m(\u001b[0m\u001b[0;34m\"AFTER DELETING LIST\"\u001b[0m\u001b[0;34m,\u001b[0m\u001b[0mL\u001b[0m\u001b[0;34m)\u001b[0m\u001b[0;34m\u001b[0m\u001b[0;34m\u001b[0m\u001b[0m\n\u001b[0m",
            "\u001b[0;31mNameError\u001b[0m: name 'L' is not defined"
          ]
        }
      ]
    }
  ]
}